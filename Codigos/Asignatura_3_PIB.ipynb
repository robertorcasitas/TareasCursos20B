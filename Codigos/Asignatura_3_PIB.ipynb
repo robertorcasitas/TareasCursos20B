{
  "nbformat": 4,
  "nbformat_minor": 0,
  "metadata": {
    "colab": {
      "provenance": []
    },
    "kernelspec": {
      "name": "python3",
      "display_name": "Python 3"
    },
    "language_info": {
      "name": "python"
    }
  },
  "cells": [
    {
      "cell_type": "markdown",
      "source": [
        "#**Asignación 3 - PIB**\n",
        "##**Nombres**: Robert Orcasitas, Damian Ospina y María Estupiñan"
      ],
      "metadata": {
        "id": "mCgQ60j2I1O6"
      }
    },
    {
      "cell_type": "markdown",
      "source": [
        "### *Se importan las librerias que se van a utilizar*"
      ],
      "metadata": {
        "id": "27ghaRrEI_uO"
      }
    },
    {
      "cell_type": "code",
      "source": [
        "import numpy as np\n",
        "import pandas as pd\n",
        "import matplotlib.pyplot as plt\n",
        "from mpl_toolkits.mplot3d import Axes3D\n",
        "import sympy as sp\n",
        "import plotly.express as px\n",
        "!pip install plotly\n",
        "import plotly.graph_objects as go"
      ],
      "metadata": {
        "id": "fnHlfpJLI7NW",
        "colab": {
          "base_uri": "https://localhost:8080/"
        },
        "outputId": "5f145d73-c348-49d5-8fe2-176b9e89ab6d"
      },
      "execution_count": null,
      "outputs": [
        {
          "output_type": "stream",
          "name": "stdout",
          "text": [
            "Requirement already satisfied: plotly in /usr/local/lib/python3.10/dist-packages (5.15.0)\n",
            "Requirement already satisfied: tenacity>=6.2.0 in /usr/local/lib/python3.10/dist-packages (from plotly) (8.4.2)\n",
            "Requirement already satisfied: packaging in /usr/local/lib/python3.10/dist-packages (from plotly) (24.1)\n"
          ]
        }
      ]
    },
    {
      "cell_type": "markdown",
      "source": [
        "*Añadimos los datos encontrados en El Banco Mundial, acerca de las estadísticas económicas de Colombia en las que se muestra como invirtió el PIB en los todos los años desde 2000 a 2020 en las áreas, salud, investigación y desarrollo, militar y educación.*"
      ],
      "metadata": {
        "id": "3q6nJiXTJCfP"
      }
    },
    {
      "cell_type": "code",
      "source": [
        "di = pd.read_csv('pibest.csv')\n",
        "\n",
        "\n",
        "años = di['Año'].values\n",
        "n = np.size(años)\n"
      ],
      "metadata": {
        "id": "RTctlHZASpk8"
      },
      "execution_count": null,
      "outputs": []
    },
    {
      "cell_type": "markdown",
      "source": [
        "*Hallamos los promedios de cada área de inversión en los 20 años*"
      ],
      "metadata": {
        "id": "lDknTATPTRXx"
      }
    },
    {
      "cell_type": "code",
      "source": [
        "# Promedios en Militar, Salud, Educación, e investigación y desarrollo\n",
        "\n",
        "promedios = np.array([sum(di['Militar'].values)/ n,\n",
        "                      sum(di['Salud'].values)/ n,\n",
        "                      sum(di['Educacion'].values)/ n,\n",
        "                      sum(di['Investigacion'].values)/ n])\n",
        "\n",
        "# Datos de cada sector para todos los años\n",
        "M = di['Militar'].values\n",
        "S = di['Salud'].values\n",
        "E = di['Educacion'].values\n",
        "I = di['Investigacion'].values\n",
        "\n",
        "print(\"Promedios: \\n\", promedios)"
      ],
      "metadata": {
        "id": "WrYs8axAS5F5",
        "colab": {
          "base_uri": "https://localhost:8080/"
        },
        "outputId": "df03d73b-b204-4ac3-8e6e-ba18003d45b2"
      },
      "execution_count": null,
      "outputs": [
        {
          "output_type": "stream",
          "name": "stdout",
          "text": [
            "Promedios: \n",
            " [3.186e+14 6.470e+08 4.039e+14 2.162e+14]\n"
          ]
        }
      ]
    },
    {
      "cell_type": "markdown",
      "source": [
        "Ahora se calculó la matriz de covarianza para las 4 variables"
      ],
      "metadata": {
        "id": "pbOT7kQr5Kwo"
      }
    },
    {
      "cell_type": "code",
      "source": [
        "cov = np.zeros((4, 4))\n",
        "cov[0][0] = sum((M - promedios[0]) ** 2)\n",
        "cov[1][1] = sum((S - promedios[1]) ** 2)\n",
        "cov[2][2] = sum((E - promedios[2]) ** 2)\n",
        "cov[3][3] = sum((I - promedios[3]) ** 2)\n",
        "cov[0][1] = cov[1][0] = sum((M - promedios[0]) * (S - promedios[1]))\n",
        "cov[0][2] = cov[2][0] = sum((M - promedios[0]) * (E - promedios[2]))\n",
        "cov[0][3] = cov[3][0] = sum((M - promedios[0]) * (I - promedios[3]))\n",
        "cov[1][2] = cov[2][1] = sum((S - promedios[1]) * (E - promedios[2]))\n",
        "cov[1][3] = cov[3][1] = sum((S - promedios[1]) * (I - promedios[3]))\n",
        "cov[2][3] = cov[3][2] = sum((E - promedios[2]) * (I - promedios[3]))\n",
        "np.set_printoptions(precision=3, suppress=True)\n",
        "print(\"Matriz de covarianza: cov = \\n\", cov)"
      ],
      "metadata": {
        "colab": {
          "base_uri": "https://localhost:8080/"
        },
        "id": "r299ISGzSsjp",
        "outputId": "36acbf6a-0b04-4985-edfe-b75133badfa9"
      },
      "execution_count": null,
      "outputs": [
        {
          "output_type": "stream",
          "name": "stdout",
          "text": [
            "Matriz de covarianza: cov = \n",
            " [[ 9.786e+28 -7.190e+22 -1.356e+28 -3.836e+28]\n",
            " [-7.190e+22  5.040e+17  4.282e+22  1.287e+23]\n",
            " [-1.356e+28  4.282e+22  3.219e+29  7.700e+28]\n",
            " [-3.836e+28  1.287e+23  7.700e+28  1.265e+29]]\n"
          ]
        }
      ]
    },
    {
      "cell_type": "markdown",
      "source": [
        "Ahora calculamos la matriz de correlación de las 4 variables"
      ],
      "metadata": {
        "id": "cmsSWL9a5aef"
      }
    },
    {
      "cell_type": "code",
      "source": [
        "sigmas = np.sqrt([sum((M - promedios[0]) ** 2),\n",
        "                  sum((S - promedios[1]) ** 2),\n",
        "                  sum((E - promedios[2]) ** 2),\n",
        "                  sum((I - promedios[3]) ** 2)])\n",
        "\n",
        "Sigma = np.outer(sigmas, sigmas)\n",
        "corr = cov / Sigma\n",
        "print(\"\\nMatriz de correlación: corr = \\n\", corr)\n"
      ],
      "metadata": {
        "colab": {
          "base_uri": "https://localhost:8080/"
        },
        "id": "vJM79-F5SzgB",
        "outputId": "9f934a1f-a37e-43e2-c148-b78d3af03edf"
      },
      "execution_count": null,
      "outputs": [
        {
          "output_type": "stream",
          "name": "stdout",
          "text": [
            "[3.128e+14 7.099e+08 5.674e+14 3.557e+14]\n",
            "\n",
            "Matriz de correlación: corr = \n",
            " [[ 1.    -0.324 -0.076 -0.345]\n",
            " [-0.324  1.     0.106  0.51 ]\n",
            " [-0.076  0.106  1.     0.382]\n",
            " [-0.345  0.51   0.382  1.   ]]\n"
          ]
        }
      ]
    },
    {
      "cell_type": "markdown",
      "source": [
        "*Graficamos*"
      ],
      "metadata": {
        "id": "YTNYNkQyU3-b"
      }
    },
    {
      "cell_type": "code",
      "source": [
        "cov_largo = pd.DataFrame(cov, columns=['Militar', 'Salud', 'Educacion', 'Investigacion'],\n",
        "                         index=['Militar', 'Salud', 'Educacion', 'Investigacion']).stack().reset_index()\n",
        "cov_largo.columns = ['Area de Inversión 1', 'Area de Inversión 2', 'Covarianza']\n",
        "cov_largo['Valor'] = cov_largo['Covarianza'].round(2).astype(str)\n",
        "\n",
        "corr_largo = pd.DataFrame(corr, columns=['Militar', 'Salud', 'Educacion', 'Investigacion'],\n",
        "                          index=['Militar', 'Salud', 'Educacion', 'Investigacion']).stack().reset_index()\n",
        "corr_largo.columns = ['Area de Inversión 1', 'Area de Inversión 2', 'Correlación']\n",
        "corr_largo['Valor'] = corr_largo['Correlación'].round(2).astype(str)\n",
        "\n",
        "#Gráfico de la matriz de covarianza\n",
        "fig_cov = go.Figure(data=go.Heatmap(\n",
        "    z=cov_largo['Covarianza'],\n",
        "    x=cov_largo['Area de Inversión 1'],\n",
        "    y=cov_largo['Area de Inversión 2'],\n",
        "    text=cov_largo['Valor'],\n",
        "    hoverinfo='text',\n",
        "    colorscale='Turbo'))\n",
        "\n",
        "for i, val in enumerate(cov_largo['Valor']):\n",
        "    fig_cov.add_annotation(\n",
        "        x=cov_largo['Area de Inversión 1'][i],\n",
        "        y=cov_largo['Area de Inversión 2'][i],\n",
        "        text=val,\n",
        "        showarrow=False,\n",
        "        font=dict(color=\"white\"))\n",
        "\n",
        "fig_cov.update_layout(\n",
        "    title='Matriz de Covarianza',\n",
        "    xaxis_title='Area de Inversión 1',\n",
        "    yaxis_title='Area de Inversión 2',\n",
        "    yaxis=dict(scaleanchor=\"x\", scaleratio=0.5,))\n",
        "\n",
        "fig_cov.show()\n",
        "\n",
        "#Gráfico de la matriz de correlación\n",
        "fig_corr = go.Figure(data=go.Heatmap(\n",
        "    z=corr_largo['Correlación'],\n",
        "    x=corr_largo['Area de Inversión 1'],\n",
        "    y=corr_largo['Area de Inversión 2'],\n",
        "    text=corr_largo['Valor'],\n",
        "    hoverinfo='text',\n",
        "    colorscale='Blugrn'))\n",
        "\n",
        "for i, val in enumerate(corr_largo['Valor']):\n",
        "    fig_corr.add_annotation(\n",
        "        x=corr_largo['Area de Inversión 1'][i],\n",
        "        y=corr_largo['Area de Inversión 2'][i],\n",
        "        text=val,\n",
        "        showarrow=False,\n",
        "        font=dict(color=\"white\"))\n",
        "\n",
        "fig_corr.update_layout(\n",
        "    title='Matriz de Correlación',\n",
        "    xaxis_title='Area de Inversión 1',\n",
        "    yaxis_title='Area de Inversión 2',\n",
        "    yaxis=dict(scaleanchor=\"x\", scaleratio=1,))\n",
        "\n",
        "fig_corr.show()"
      ],
      "metadata": {
        "colab": {
          "base_uri": "https://localhost:8080/",
          "height": 1000
        },
        "id": "Mk_JME4AGgvJ",
        "outputId": "502d16fb-0c7f-49fc-8b73-78f9c6a3c89c"
      },
      "execution_count": null,
      "outputs": [
        {
          "output_type": "display_data",
          "data": {
            "text/html": [
              "<html>\n",
              "<head><meta charset=\"utf-8\" /></head>\n",
              "<body>\n",
              "    <div>            <script src=\"https://cdnjs.cloudflare.com/ajax/libs/mathjax/2.7.5/MathJax.js?config=TeX-AMS-MML_SVG\"></script><script type=\"text/javascript\">if (window.MathJax && window.MathJax.Hub && window.MathJax.Hub.Config) {window.MathJax.Hub.Config({SVG: {font: \"STIX-Web\"}});}</script>                <script type=\"text/javascript\">window.PlotlyConfig = {MathJaxConfig: 'local'};</script>\n",
              "        <script charset=\"utf-8\" src=\"https://cdn.plot.ly/plotly-2.24.1.min.js\"></script>                <div id=\"22b8987f-f4a9-41e4-8708-79e849fbaef7\" class=\"plotly-graph-div\" style=\"height:525px; width:100%;\"></div>            <script type=\"text/javascript\">                                    window.PLOTLYENV=window.PLOTLYENV || {};                                    if (document.getElementById(\"22b8987f-f4a9-41e4-8708-79e849fbaef7\")) {                    Plotly.newPlot(                        \"22b8987f-f4a9-41e4-8708-79e849fbaef7\",                        [{\"colorscale\":[[0.0,\"#30123b\"],[0.07142857142857142,\"#4145ab\"],[0.14285714285714285,\"#4675ed\"],[0.21428571428571427,\"#39a2fc\"],[0.2857142857142857,\"#1bcfd4\"],[0.35714285714285715,\"#24eca6\"],[0.42857142857142855,\"#61fc6c\"],[0.5,\"#a4fc3b\"],[0.5714285714285714,\"#d1e834\"],[0.6428571428571429,\"#f3c63a\"],[0.7142857142857143,\"#fe9b2d\"],[0.7857142857142857,\"#f36315\"],[0.8571428571428571,\"#d93806\"],[0.9285714285714286,\"#b11901\"],[1.0,\"#7a0402\"]],\"hoverinfo\":\"text\",\"text\":[\"9.785574337048534e+28\",\"-7.190255845278057e+22\",\"-1.3561515981656732e+28\",\"-3.8358108421213144e+28\",\"-7.190255845278057e+22\",\"5.0401037043567245e+17\",\"4.282204244780257e+22\",\"1.2867642942029946e+23\",\"-1.3561515981656732e+28\",\"4.282204244780257e+22\",\"3.219070943257958e+29\",\"7.7003433657569565e+28\",\"-3.8358108421213144e+28\",\"1.2867642942029946e+23\",\"7.7003433657569565e+28\",\"1.2653802579205955e+29\"],\"x\":[\"Militar\",\"Militar\",\"Militar\",\"Militar\",\"Salud\",\"Salud\",\"Salud\",\"Salud\",\"Educacion\",\"Educacion\",\"Educacion\",\"Educacion\",\"Investigacion\",\"Investigacion\",\"Investigacion\",\"Investigacion\"],\"y\":[\"Militar\",\"Salud\",\"Educacion\",\"Investigacion\",\"Militar\",\"Salud\",\"Educacion\",\"Investigacion\",\"Militar\",\"Salud\",\"Educacion\",\"Investigacion\",\"Militar\",\"Salud\",\"Educacion\",\"Investigacion\"],\"z\":[9.785574337048534e+28,-7.190255845278057e+22,-1.3561515981656735e+28,-3.8358108421213144e+28,-7.190255845278057e+22,5.0401037043567245e+17,4.282204244780257e+22,1.2867642942029946e+23,-1.3561515981656735e+28,4.282204244780257e+22,3.219070943257958e+29,7.7003433657569565e+28,-3.8358108421213144e+28,1.2867642942029946e+23,7.7003433657569565e+28,1.2653802579205955e+29],\"type\":\"heatmap\"}],                        {\"template\":{\"data\":{\"histogram2dcontour\":[{\"type\":\"histogram2dcontour\",\"colorbar\":{\"outlinewidth\":0,\"ticks\":\"\"},\"colorscale\":[[0.0,\"#0d0887\"],[0.1111111111111111,\"#46039f\"],[0.2222222222222222,\"#7201a8\"],[0.3333333333333333,\"#9c179e\"],[0.4444444444444444,\"#bd3786\"],[0.5555555555555556,\"#d8576b\"],[0.6666666666666666,\"#ed7953\"],[0.7777777777777778,\"#fb9f3a\"],[0.8888888888888888,\"#fdca26\"],[1.0,\"#f0f921\"]]}],\"choropleth\":[{\"type\":\"choropleth\",\"colorbar\":{\"outlinewidth\":0,\"ticks\":\"\"}}],\"histogram2d\":[{\"type\":\"histogram2d\",\"colorbar\":{\"outlinewidth\":0,\"ticks\":\"\"},\"colorscale\":[[0.0,\"#0d0887\"],[0.1111111111111111,\"#46039f\"],[0.2222222222222222,\"#7201a8\"],[0.3333333333333333,\"#9c179e\"],[0.4444444444444444,\"#bd3786\"],[0.5555555555555556,\"#d8576b\"],[0.6666666666666666,\"#ed7953\"],[0.7777777777777778,\"#fb9f3a\"],[0.8888888888888888,\"#fdca26\"],[1.0,\"#f0f921\"]]}],\"heatmap\":[{\"type\":\"heatmap\",\"colorbar\":{\"outlinewidth\":0,\"ticks\":\"\"},\"colorscale\":[[0.0,\"#0d0887\"],[0.1111111111111111,\"#46039f\"],[0.2222222222222222,\"#7201a8\"],[0.3333333333333333,\"#9c179e\"],[0.4444444444444444,\"#bd3786\"],[0.5555555555555556,\"#d8576b\"],[0.6666666666666666,\"#ed7953\"],[0.7777777777777778,\"#fb9f3a\"],[0.8888888888888888,\"#fdca26\"],[1.0,\"#f0f921\"]]}],\"heatmapgl\":[{\"type\":\"heatmapgl\",\"colorbar\":{\"outlinewidth\":0,\"ticks\":\"\"},\"colorscale\":[[0.0,\"#0d0887\"],[0.1111111111111111,\"#46039f\"],[0.2222222222222222,\"#7201a8\"],[0.3333333333333333,\"#9c179e\"],[0.4444444444444444,\"#bd3786\"],[0.5555555555555556,\"#d8576b\"],[0.6666666666666666,\"#ed7953\"],[0.7777777777777778,\"#fb9f3a\"],[0.8888888888888888,\"#fdca26\"],[1.0,\"#f0f921\"]]}],\"contourcarpet\":[{\"type\":\"contourcarpet\",\"colorbar\":{\"outlinewidth\":0,\"ticks\":\"\"}}],\"contour\":[{\"type\":\"contour\",\"colorbar\":{\"outlinewidth\":0,\"ticks\":\"\"},\"colorscale\":[[0.0,\"#0d0887\"],[0.1111111111111111,\"#46039f\"],[0.2222222222222222,\"#7201a8\"],[0.3333333333333333,\"#9c179e\"],[0.4444444444444444,\"#bd3786\"],[0.5555555555555556,\"#d8576b\"],[0.6666666666666666,\"#ed7953\"],[0.7777777777777778,\"#fb9f3a\"],[0.8888888888888888,\"#fdca26\"],[1.0,\"#f0f921\"]]}],\"surface\":[{\"type\":\"surface\",\"colorbar\":{\"outlinewidth\":0,\"ticks\":\"\"},\"colorscale\":[[0.0,\"#0d0887\"],[0.1111111111111111,\"#46039f\"],[0.2222222222222222,\"#7201a8\"],[0.3333333333333333,\"#9c179e\"],[0.4444444444444444,\"#bd3786\"],[0.5555555555555556,\"#d8576b\"],[0.6666666666666666,\"#ed7953\"],[0.7777777777777778,\"#fb9f3a\"],[0.8888888888888888,\"#fdca26\"],[1.0,\"#f0f921\"]]}],\"mesh3d\":[{\"type\":\"mesh3d\",\"colorbar\":{\"outlinewidth\":0,\"ticks\":\"\"}}],\"scatter\":[{\"fillpattern\":{\"fillmode\":\"overlay\",\"size\":10,\"solidity\":0.2},\"type\":\"scatter\"}],\"parcoords\":[{\"type\":\"parcoords\",\"line\":{\"colorbar\":{\"outlinewidth\":0,\"ticks\":\"\"}}}],\"scatterpolargl\":[{\"type\":\"scatterpolargl\",\"marker\":{\"colorbar\":{\"outlinewidth\":0,\"ticks\":\"\"}}}],\"bar\":[{\"error_x\":{\"color\":\"#2a3f5f\"},\"error_y\":{\"color\":\"#2a3f5f\"},\"marker\":{\"line\":{\"color\":\"#E5ECF6\",\"width\":0.5},\"pattern\":{\"fillmode\":\"overlay\",\"size\":10,\"solidity\":0.2}},\"type\":\"bar\"}],\"scattergeo\":[{\"type\":\"scattergeo\",\"marker\":{\"colorbar\":{\"outlinewidth\":0,\"ticks\":\"\"}}}],\"scatterpolar\":[{\"type\":\"scatterpolar\",\"marker\":{\"colorbar\":{\"outlinewidth\":0,\"ticks\":\"\"}}}],\"histogram\":[{\"marker\":{\"pattern\":{\"fillmode\":\"overlay\",\"size\":10,\"solidity\":0.2}},\"type\":\"histogram\"}],\"scattergl\":[{\"type\":\"scattergl\",\"marker\":{\"colorbar\":{\"outlinewidth\":0,\"ticks\":\"\"}}}],\"scatter3d\":[{\"type\":\"scatter3d\",\"line\":{\"colorbar\":{\"outlinewidth\":0,\"ticks\":\"\"}},\"marker\":{\"colorbar\":{\"outlinewidth\":0,\"ticks\":\"\"}}}],\"scattermapbox\":[{\"type\":\"scattermapbox\",\"marker\":{\"colorbar\":{\"outlinewidth\":0,\"ticks\":\"\"}}}],\"scatterternary\":[{\"type\":\"scatterternary\",\"marker\":{\"colorbar\":{\"outlinewidth\":0,\"ticks\":\"\"}}}],\"scattercarpet\":[{\"type\":\"scattercarpet\",\"marker\":{\"colorbar\":{\"outlinewidth\":0,\"ticks\":\"\"}}}],\"carpet\":[{\"aaxis\":{\"endlinecolor\":\"#2a3f5f\",\"gridcolor\":\"white\",\"linecolor\":\"white\",\"minorgridcolor\":\"white\",\"startlinecolor\":\"#2a3f5f\"},\"baxis\":{\"endlinecolor\":\"#2a3f5f\",\"gridcolor\":\"white\",\"linecolor\":\"white\",\"minorgridcolor\":\"white\",\"startlinecolor\":\"#2a3f5f\"},\"type\":\"carpet\"}],\"table\":[{\"cells\":{\"fill\":{\"color\":\"#EBF0F8\"},\"line\":{\"color\":\"white\"}},\"header\":{\"fill\":{\"color\":\"#C8D4E3\"},\"line\":{\"color\":\"white\"}},\"type\":\"table\"}],\"barpolar\":[{\"marker\":{\"line\":{\"color\":\"#E5ECF6\",\"width\":0.5},\"pattern\":{\"fillmode\":\"overlay\",\"size\":10,\"solidity\":0.2}},\"type\":\"barpolar\"}],\"pie\":[{\"automargin\":true,\"type\":\"pie\"}]},\"layout\":{\"autotypenumbers\":\"strict\",\"colorway\":[\"#636efa\",\"#EF553B\",\"#00cc96\",\"#ab63fa\",\"#FFA15A\",\"#19d3f3\",\"#FF6692\",\"#B6E880\",\"#FF97FF\",\"#FECB52\"],\"font\":{\"color\":\"#2a3f5f\"},\"hovermode\":\"closest\",\"hoverlabel\":{\"align\":\"left\"},\"paper_bgcolor\":\"white\",\"plot_bgcolor\":\"#E5ECF6\",\"polar\":{\"bgcolor\":\"#E5ECF6\",\"angularaxis\":{\"gridcolor\":\"white\",\"linecolor\":\"white\",\"ticks\":\"\"},\"radialaxis\":{\"gridcolor\":\"white\",\"linecolor\":\"white\",\"ticks\":\"\"}},\"ternary\":{\"bgcolor\":\"#E5ECF6\",\"aaxis\":{\"gridcolor\":\"white\",\"linecolor\":\"white\",\"ticks\":\"\"},\"baxis\":{\"gridcolor\":\"white\",\"linecolor\":\"white\",\"ticks\":\"\"},\"caxis\":{\"gridcolor\":\"white\",\"linecolor\":\"white\",\"ticks\":\"\"}},\"coloraxis\":{\"colorbar\":{\"outlinewidth\":0,\"ticks\":\"\"}},\"colorscale\":{\"sequential\":[[0.0,\"#0d0887\"],[0.1111111111111111,\"#46039f\"],[0.2222222222222222,\"#7201a8\"],[0.3333333333333333,\"#9c179e\"],[0.4444444444444444,\"#bd3786\"],[0.5555555555555556,\"#d8576b\"],[0.6666666666666666,\"#ed7953\"],[0.7777777777777778,\"#fb9f3a\"],[0.8888888888888888,\"#fdca26\"],[1.0,\"#f0f921\"]],\"sequentialminus\":[[0.0,\"#0d0887\"],[0.1111111111111111,\"#46039f\"],[0.2222222222222222,\"#7201a8\"],[0.3333333333333333,\"#9c179e\"],[0.4444444444444444,\"#bd3786\"],[0.5555555555555556,\"#d8576b\"],[0.6666666666666666,\"#ed7953\"],[0.7777777777777778,\"#fb9f3a\"],[0.8888888888888888,\"#fdca26\"],[1.0,\"#f0f921\"]],\"diverging\":[[0,\"#8e0152\"],[0.1,\"#c51b7d\"],[0.2,\"#de77ae\"],[0.3,\"#f1b6da\"],[0.4,\"#fde0ef\"],[0.5,\"#f7f7f7\"],[0.6,\"#e6f5d0\"],[0.7,\"#b8e186\"],[0.8,\"#7fbc41\"],[0.9,\"#4d9221\"],[1,\"#276419\"]]},\"xaxis\":{\"gridcolor\":\"white\",\"linecolor\":\"white\",\"ticks\":\"\",\"title\":{\"standoff\":15},\"zerolinecolor\":\"white\",\"automargin\":true,\"zerolinewidth\":2},\"yaxis\":{\"gridcolor\":\"white\",\"linecolor\":\"white\",\"ticks\":\"\",\"title\":{\"standoff\":15},\"zerolinecolor\":\"white\",\"automargin\":true,\"zerolinewidth\":2},\"scene\":{\"xaxis\":{\"backgroundcolor\":\"#E5ECF6\",\"gridcolor\":\"white\",\"linecolor\":\"white\",\"showbackground\":true,\"ticks\":\"\",\"zerolinecolor\":\"white\",\"gridwidth\":2},\"yaxis\":{\"backgroundcolor\":\"#E5ECF6\",\"gridcolor\":\"white\",\"linecolor\":\"white\",\"showbackground\":true,\"ticks\":\"\",\"zerolinecolor\":\"white\",\"gridwidth\":2},\"zaxis\":{\"backgroundcolor\":\"#E5ECF6\",\"gridcolor\":\"white\",\"linecolor\":\"white\",\"showbackground\":true,\"ticks\":\"\",\"zerolinecolor\":\"white\",\"gridwidth\":2}},\"shapedefaults\":{\"line\":{\"color\":\"#2a3f5f\"}},\"annotationdefaults\":{\"arrowcolor\":\"#2a3f5f\",\"arrowhead\":0,\"arrowwidth\":1},\"geo\":{\"bgcolor\":\"white\",\"landcolor\":\"#E5ECF6\",\"subunitcolor\":\"white\",\"showland\":true,\"showlakes\":true,\"lakecolor\":\"white\"},\"title\":{\"x\":0.05},\"mapbox\":{\"style\":\"light\"}}},\"annotations\":[{\"font\":{\"color\":\"white\"},\"showarrow\":false,\"text\":\"9.785574337048534e+28\",\"x\":\"Militar\",\"y\":\"Militar\"},{\"font\":{\"color\":\"white\"},\"showarrow\":false,\"text\":\"-7.190255845278057e+22\",\"x\":\"Militar\",\"y\":\"Salud\"},{\"font\":{\"color\":\"white\"},\"showarrow\":false,\"text\":\"-1.3561515981656732e+28\",\"x\":\"Militar\",\"y\":\"Educacion\"},{\"font\":{\"color\":\"white\"},\"showarrow\":false,\"text\":\"-3.8358108421213144e+28\",\"x\":\"Militar\",\"y\":\"Investigacion\"},{\"font\":{\"color\":\"white\"},\"showarrow\":false,\"text\":\"-7.190255845278057e+22\",\"x\":\"Salud\",\"y\":\"Militar\"},{\"font\":{\"color\":\"white\"},\"showarrow\":false,\"text\":\"5.0401037043567245e+17\",\"x\":\"Salud\",\"y\":\"Salud\"},{\"font\":{\"color\":\"white\"},\"showarrow\":false,\"text\":\"4.282204244780257e+22\",\"x\":\"Salud\",\"y\":\"Educacion\"},{\"font\":{\"color\":\"white\"},\"showarrow\":false,\"text\":\"1.2867642942029946e+23\",\"x\":\"Salud\",\"y\":\"Investigacion\"},{\"font\":{\"color\":\"white\"},\"showarrow\":false,\"text\":\"-1.3561515981656732e+28\",\"x\":\"Educacion\",\"y\":\"Militar\"},{\"font\":{\"color\":\"white\"},\"showarrow\":false,\"text\":\"4.282204244780257e+22\",\"x\":\"Educacion\",\"y\":\"Salud\"},{\"font\":{\"color\":\"white\"},\"showarrow\":false,\"text\":\"3.219070943257958e+29\",\"x\":\"Educacion\",\"y\":\"Educacion\"},{\"font\":{\"color\":\"white\"},\"showarrow\":false,\"text\":\"7.7003433657569565e+28\",\"x\":\"Educacion\",\"y\":\"Investigacion\"},{\"font\":{\"color\":\"white\"},\"showarrow\":false,\"text\":\"-3.8358108421213144e+28\",\"x\":\"Investigacion\",\"y\":\"Militar\"},{\"font\":{\"color\":\"white\"},\"showarrow\":false,\"text\":\"1.2867642942029946e+23\",\"x\":\"Investigacion\",\"y\":\"Salud\"},{\"font\":{\"color\":\"white\"},\"showarrow\":false,\"text\":\"7.7003433657569565e+28\",\"x\":\"Investigacion\",\"y\":\"Educacion\"},{\"font\":{\"color\":\"white\"},\"showarrow\":false,\"text\":\"1.2653802579205955e+29\",\"x\":\"Investigacion\",\"y\":\"Investigacion\"}],\"yaxis\":{\"title\":{\"text\":\"Area de Inversi\\u00f3n 2\"},\"scaleanchor\":\"x\",\"scaleratio\":0.5},\"title\":{\"text\":\"Matriz de Covarianza\"},\"xaxis\":{\"title\":{\"text\":\"Area de Inversi\\u00f3n 1\"}}},                        {\"responsive\": true}                    ).then(function(){\n",
              "                            \n",
              "var gd = document.getElementById('22b8987f-f4a9-41e4-8708-79e849fbaef7');\n",
              "var x = new MutationObserver(function (mutations, observer) {{\n",
              "        var display = window.getComputedStyle(gd).display;\n",
              "        if (!display || display === 'none') {{\n",
              "            console.log([gd, 'removed!']);\n",
              "            Plotly.purge(gd);\n",
              "            observer.disconnect();\n",
              "        }}\n",
              "}});\n",
              "\n",
              "// Listen for the removal of the full notebook cells\n",
              "var notebookContainer = gd.closest('#notebook-container');\n",
              "if (notebookContainer) {{\n",
              "    x.observe(notebookContainer, {childList: true});\n",
              "}}\n",
              "\n",
              "// Listen for the clearing of the current output cell\n",
              "var outputEl = gd.closest('.output');\n",
              "if (outputEl) {{\n",
              "    x.observe(outputEl, {childList: true});\n",
              "}}\n",
              "\n",
              "                        })                };                            </script>        </div>\n",
              "</body>\n",
              "</html>"
            ]
          },
          "metadata": {}
        },
        {
          "output_type": "display_data",
          "data": {
            "text/html": [
              "<html>\n",
              "<head><meta charset=\"utf-8\" /></head>\n",
              "<body>\n",
              "    <div>            <script src=\"https://cdnjs.cloudflare.com/ajax/libs/mathjax/2.7.5/MathJax.js?config=TeX-AMS-MML_SVG\"></script><script type=\"text/javascript\">if (window.MathJax && window.MathJax.Hub && window.MathJax.Hub.Config) {window.MathJax.Hub.Config({SVG: {font: \"STIX-Web\"}});}</script>                <script type=\"text/javascript\">window.PlotlyConfig = {MathJaxConfig: 'local'};</script>\n",
              "        <script charset=\"utf-8\" src=\"https://cdn.plot.ly/plotly-2.24.1.min.js\"></script>                <div id=\"48c64f45-58ac-4330-9b3f-831a1efa6d11\" class=\"plotly-graph-div\" style=\"height:525px; width:100%;\"></div>            <script type=\"text/javascript\">                                    window.PLOTLYENV=window.PLOTLYENV || {};                                    if (document.getElementById(\"48c64f45-58ac-4330-9b3f-831a1efa6d11\")) {                    Plotly.newPlot(                        \"48c64f45-58ac-4330-9b3f-831a1efa6d11\",                        [{\"colorscale\":[[0.0,\"rgb(196, 230, 195)\"],[0.16666666666666666,\"rgb(150, 210, 164)\"],[0.3333333333333333,\"rgb(109, 188, 144)\"],[0.5,\"rgb(77, 162, 132)\"],[0.6666666666666666,\"rgb(54, 135, 122)\"],[0.8333333333333334,\"rgb(38, 107, 110)\"],[1.0,\"rgb(29, 79, 96)\"]],\"hoverinfo\":\"text\",\"text\":[\"1.0\",\"-0.32\",\"-0.08\",\"-0.34\",\"-0.32\",\"1.0\",\"0.11\",\"0.51\",\"-0.08\",\"0.11\",\"1.0\",\"0.38\",\"-0.34\",\"0.51\",\"0.38\",\"1.0\"],\"x\":[\"Militar\",\"Militar\",\"Militar\",\"Militar\",\"Salud\",\"Salud\",\"Salud\",\"Salud\",\"Educacion\",\"Educacion\",\"Educacion\",\"Educacion\",\"Investigacion\",\"Investigacion\",\"Investigacion\",\"Investigacion\"],\"y\":[\"Militar\",\"Salud\",\"Educacion\",\"Investigacion\",\"Militar\",\"Salud\",\"Educacion\",\"Investigacion\",\"Militar\",\"Salud\",\"Educacion\",\"Investigacion\",\"Militar\",\"Salud\",\"Educacion\",\"Investigacion\"],\"z\":[1.0,-0.3237661547507741,-0.07640993071646321,-0.3447096924337299,-0.3237661547507741,1.0000000000000002,0.10631201933640337,0.5095288015391114,-0.07640993071646321,0.10631201933640337,1.0,0.38153491743686446,-0.3447096924337299,0.5095288015391114,0.38153491743686446,1.0],\"type\":\"heatmap\"}],                        {\"template\":{\"data\":{\"histogram2dcontour\":[{\"type\":\"histogram2dcontour\",\"colorbar\":{\"outlinewidth\":0,\"ticks\":\"\"},\"colorscale\":[[0.0,\"#0d0887\"],[0.1111111111111111,\"#46039f\"],[0.2222222222222222,\"#7201a8\"],[0.3333333333333333,\"#9c179e\"],[0.4444444444444444,\"#bd3786\"],[0.5555555555555556,\"#d8576b\"],[0.6666666666666666,\"#ed7953\"],[0.7777777777777778,\"#fb9f3a\"],[0.8888888888888888,\"#fdca26\"],[1.0,\"#f0f921\"]]}],\"choropleth\":[{\"type\":\"choropleth\",\"colorbar\":{\"outlinewidth\":0,\"ticks\":\"\"}}],\"histogram2d\":[{\"type\":\"histogram2d\",\"colorbar\":{\"outlinewidth\":0,\"ticks\":\"\"},\"colorscale\":[[0.0,\"#0d0887\"],[0.1111111111111111,\"#46039f\"],[0.2222222222222222,\"#7201a8\"],[0.3333333333333333,\"#9c179e\"],[0.4444444444444444,\"#bd3786\"],[0.5555555555555556,\"#d8576b\"],[0.6666666666666666,\"#ed7953\"],[0.7777777777777778,\"#fb9f3a\"],[0.8888888888888888,\"#fdca26\"],[1.0,\"#f0f921\"]]}],\"heatmap\":[{\"type\":\"heatmap\",\"colorbar\":{\"outlinewidth\":0,\"ticks\":\"\"},\"colorscale\":[[0.0,\"#0d0887\"],[0.1111111111111111,\"#46039f\"],[0.2222222222222222,\"#7201a8\"],[0.3333333333333333,\"#9c179e\"],[0.4444444444444444,\"#bd3786\"],[0.5555555555555556,\"#d8576b\"],[0.6666666666666666,\"#ed7953\"],[0.7777777777777778,\"#fb9f3a\"],[0.8888888888888888,\"#fdca26\"],[1.0,\"#f0f921\"]]}],\"heatmapgl\":[{\"type\":\"heatmapgl\",\"colorbar\":{\"outlinewidth\":0,\"ticks\":\"\"},\"colorscale\":[[0.0,\"#0d0887\"],[0.1111111111111111,\"#46039f\"],[0.2222222222222222,\"#7201a8\"],[0.3333333333333333,\"#9c179e\"],[0.4444444444444444,\"#bd3786\"],[0.5555555555555556,\"#d8576b\"],[0.6666666666666666,\"#ed7953\"],[0.7777777777777778,\"#fb9f3a\"],[0.8888888888888888,\"#fdca26\"],[1.0,\"#f0f921\"]]}],\"contourcarpet\":[{\"type\":\"contourcarpet\",\"colorbar\":{\"outlinewidth\":0,\"ticks\":\"\"}}],\"contour\":[{\"type\":\"contour\",\"colorbar\":{\"outlinewidth\":0,\"ticks\":\"\"},\"colorscale\":[[0.0,\"#0d0887\"],[0.1111111111111111,\"#46039f\"],[0.2222222222222222,\"#7201a8\"],[0.3333333333333333,\"#9c179e\"],[0.4444444444444444,\"#bd3786\"],[0.5555555555555556,\"#d8576b\"],[0.6666666666666666,\"#ed7953\"],[0.7777777777777778,\"#fb9f3a\"],[0.8888888888888888,\"#fdca26\"],[1.0,\"#f0f921\"]]}],\"surface\":[{\"type\":\"surface\",\"colorbar\":{\"outlinewidth\":0,\"ticks\":\"\"},\"colorscale\":[[0.0,\"#0d0887\"],[0.1111111111111111,\"#46039f\"],[0.2222222222222222,\"#7201a8\"],[0.3333333333333333,\"#9c179e\"],[0.4444444444444444,\"#bd3786\"],[0.5555555555555556,\"#d8576b\"],[0.6666666666666666,\"#ed7953\"],[0.7777777777777778,\"#fb9f3a\"],[0.8888888888888888,\"#fdca26\"],[1.0,\"#f0f921\"]]}],\"mesh3d\":[{\"type\":\"mesh3d\",\"colorbar\":{\"outlinewidth\":0,\"ticks\":\"\"}}],\"scatter\":[{\"fillpattern\":{\"fillmode\":\"overlay\",\"size\":10,\"solidity\":0.2},\"type\":\"scatter\"}],\"parcoords\":[{\"type\":\"parcoords\",\"line\":{\"colorbar\":{\"outlinewidth\":0,\"ticks\":\"\"}}}],\"scatterpolargl\":[{\"type\":\"scatterpolargl\",\"marker\":{\"colorbar\":{\"outlinewidth\":0,\"ticks\":\"\"}}}],\"bar\":[{\"error_x\":{\"color\":\"#2a3f5f\"},\"error_y\":{\"color\":\"#2a3f5f\"},\"marker\":{\"line\":{\"color\":\"#E5ECF6\",\"width\":0.5},\"pattern\":{\"fillmode\":\"overlay\",\"size\":10,\"solidity\":0.2}},\"type\":\"bar\"}],\"scattergeo\":[{\"type\":\"scattergeo\",\"marker\":{\"colorbar\":{\"outlinewidth\":0,\"ticks\":\"\"}}}],\"scatterpolar\":[{\"type\":\"scatterpolar\",\"marker\":{\"colorbar\":{\"outlinewidth\":0,\"ticks\":\"\"}}}],\"histogram\":[{\"marker\":{\"pattern\":{\"fillmode\":\"overlay\",\"size\":10,\"solidity\":0.2}},\"type\":\"histogram\"}],\"scattergl\":[{\"type\":\"scattergl\",\"marker\":{\"colorbar\":{\"outlinewidth\":0,\"ticks\":\"\"}}}],\"scatter3d\":[{\"type\":\"scatter3d\",\"line\":{\"colorbar\":{\"outlinewidth\":0,\"ticks\":\"\"}},\"marker\":{\"colorbar\":{\"outlinewidth\":0,\"ticks\":\"\"}}}],\"scattermapbox\":[{\"type\":\"scattermapbox\",\"marker\":{\"colorbar\":{\"outlinewidth\":0,\"ticks\":\"\"}}}],\"scatterternary\":[{\"type\":\"scatterternary\",\"marker\":{\"colorbar\":{\"outlinewidth\":0,\"ticks\":\"\"}}}],\"scattercarpet\":[{\"type\":\"scattercarpet\",\"marker\":{\"colorbar\":{\"outlinewidth\":0,\"ticks\":\"\"}}}],\"carpet\":[{\"aaxis\":{\"endlinecolor\":\"#2a3f5f\",\"gridcolor\":\"white\",\"linecolor\":\"white\",\"minorgridcolor\":\"white\",\"startlinecolor\":\"#2a3f5f\"},\"baxis\":{\"endlinecolor\":\"#2a3f5f\",\"gridcolor\":\"white\",\"linecolor\":\"white\",\"minorgridcolor\":\"white\",\"startlinecolor\":\"#2a3f5f\"},\"type\":\"carpet\"}],\"table\":[{\"cells\":{\"fill\":{\"color\":\"#EBF0F8\"},\"line\":{\"color\":\"white\"}},\"header\":{\"fill\":{\"color\":\"#C8D4E3\"},\"line\":{\"color\":\"white\"}},\"type\":\"table\"}],\"barpolar\":[{\"marker\":{\"line\":{\"color\":\"#E5ECF6\",\"width\":0.5},\"pattern\":{\"fillmode\":\"overlay\",\"size\":10,\"solidity\":0.2}},\"type\":\"barpolar\"}],\"pie\":[{\"automargin\":true,\"type\":\"pie\"}]},\"layout\":{\"autotypenumbers\":\"strict\",\"colorway\":[\"#636efa\",\"#EF553B\",\"#00cc96\",\"#ab63fa\",\"#FFA15A\",\"#19d3f3\",\"#FF6692\",\"#B6E880\",\"#FF97FF\",\"#FECB52\"],\"font\":{\"color\":\"#2a3f5f\"},\"hovermode\":\"closest\",\"hoverlabel\":{\"align\":\"left\"},\"paper_bgcolor\":\"white\",\"plot_bgcolor\":\"#E5ECF6\",\"polar\":{\"bgcolor\":\"#E5ECF6\",\"angularaxis\":{\"gridcolor\":\"white\",\"linecolor\":\"white\",\"ticks\":\"\"},\"radialaxis\":{\"gridcolor\":\"white\",\"linecolor\":\"white\",\"ticks\":\"\"}},\"ternary\":{\"bgcolor\":\"#E5ECF6\",\"aaxis\":{\"gridcolor\":\"white\",\"linecolor\":\"white\",\"ticks\":\"\"},\"baxis\":{\"gridcolor\":\"white\",\"linecolor\":\"white\",\"ticks\":\"\"},\"caxis\":{\"gridcolor\":\"white\",\"linecolor\":\"white\",\"ticks\":\"\"}},\"coloraxis\":{\"colorbar\":{\"outlinewidth\":0,\"ticks\":\"\"}},\"colorscale\":{\"sequential\":[[0.0,\"#0d0887\"],[0.1111111111111111,\"#46039f\"],[0.2222222222222222,\"#7201a8\"],[0.3333333333333333,\"#9c179e\"],[0.4444444444444444,\"#bd3786\"],[0.5555555555555556,\"#d8576b\"],[0.6666666666666666,\"#ed7953\"],[0.7777777777777778,\"#fb9f3a\"],[0.8888888888888888,\"#fdca26\"],[1.0,\"#f0f921\"]],\"sequentialminus\":[[0.0,\"#0d0887\"],[0.1111111111111111,\"#46039f\"],[0.2222222222222222,\"#7201a8\"],[0.3333333333333333,\"#9c179e\"],[0.4444444444444444,\"#bd3786\"],[0.5555555555555556,\"#d8576b\"],[0.6666666666666666,\"#ed7953\"],[0.7777777777777778,\"#fb9f3a\"],[0.8888888888888888,\"#fdca26\"],[1.0,\"#f0f921\"]],\"diverging\":[[0,\"#8e0152\"],[0.1,\"#c51b7d\"],[0.2,\"#de77ae\"],[0.3,\"#f1b6da\"],[0.4,\"#fde0ef\"],[0.5,\"#f7f7f7\"],[0.6,\"#e6f5d0\"],[0.7,\"#b8e186\"],[0.8,\"#7fbc41\"],[0.9,\"#4d9221\"],[1,\"#276419\"]]},\"xaxis\":{\"gridcolor\":\"white\",\"linecolor\":\"white\",\"ticks\":\"\",\"title\":{\"standoff\":15},\"zerolinecolor\":\"white\",\"automargin\":true,\"zerolinewidth\":2},\"yaxis\":{\"gridcolor\":\"white\",\"linecolor\":\"white\",\"ticks\":\"\",\"title\":{\"standoff\":15},\"zerolinecolor\":\"white\",\"automargin\":true,\"zerolinewidth\":2},\"scene\":{\"xaxis\":{\"backgroundcolor\":\"#E5ECF6\",\"gridcolor\":\"white\",\"linecolor\":\"white\",\"showbackground\":true,\"ticks\":\"\",\"zerolinecolor\":\"white\",\"gridwidth\":2},\"yaxis\":{\"backgroundcolor\":\"#E5ECF6\",\"gridcolor\":\"white\",\"linecolor\":\"white\",\"showbackground\":true,\"ticks\":\"\",\"zerolinecolor\":\"white\",\"gridwidth\":2},\"zaxis\":{\"backgroundcolor\":\"#E5ECF6\",\"gridcolor\":\"white\",\"linecolor\":\"white\",\"showbackground\":true,\"ticks\":\"\",\"zerolinecolor\":\"white\",\"gridwidth\":2}},\"shapedefaults\":{\"line\":{\"color\":\"#2a3f5f\"}},\"annotationdefaults\":{\"arrowcolor\":\"#2a3f5f\",\"arrowhead\":0,\"arrowwidth\":1},\"geo\":{\"bgcolor\":\"white\",\"landcolor\":\"#E5ECF6\",\"subunitcolor\":\"white\",\"showland\":true,\"showlakes\":true,\"lakecolor\":\"white\"},\"title\":{\"x\":0.05},\"mapbox\":{\"style\":\"light\"}}},\"annotations\":[{\"font\":{\"color\":\"white\"},\"showarrow\":false,\"text\":\"1.0\",\"x\":\"Militar\",\"y\":\"Militar\"},{\"font\":{\"color\":\"white\"},\"showarrow\":false,\"text\":\"-0.32\",\"x\":\"Militar\",\"y\":\"Salud\"},{\"font\":{\"color\":\"white\"},\"showarrow\":false,\"text\":\"-0.08\",\"x\":\"Militar\",\"y\":\"Educacion\"},{\"font\":{\"color\":\"white\"},\"showarrow\":false,\"text\":\"-0.34\",\"x\":\"Militar\",\"y\":\"Investigacion\"},{\"font\":{\"color\":\"white\"},\"showarrow\":false,\"text\":\"-0.32\",\"x\":\"Salud\",\"y\":\"Militar\"},{\"font\":{\"color\":\"white\"},\"showarrow\":false,\"text\":\"1.0\",\"x\":\"Salud\",\"y\":\"Salud\"},{\"font\":{\"color\":\"white\"},\"showarrow\":false,\"text\":\"0.11\",\"x\":\"Salud\",\"y\":\"Educacion\"},{\"font\":{\"color\":\"white\"},\"showarrow\":false,\"text\":\"0.51\",\"x\":\"Salud\",\"y\":\"Investigacion\"},{\"font\":{\"color\":\"white\"},\"showarrow\":false,\"text\":\"-0.08\",\"x\":\"Educacion\",\"y\":\"Militar\"},{\"font\":{\"color\":\"white\"},\"showarrow\":false,\"text\":\"0.11\",\"x\":\"Educacion\",\"y\":\"Salud\"},{\"font\":{\"color\":\"white\"},\"showarrow\":false,\"text\":\"1.0\",\"x\":\"Educacion\",\"y\":\"Educacion\"},{\"font\":{\"color\":\"white\"},\"showarrow\":false,\"text\":\"0.38\",\"x\":\"Educacion\",\"y\":\"Investigacion\"},{\"font\":{\"color\":\"white\"},\"showarrow\":false,\"text\":\"-0.34\",\"x\":\"Investigacion\",\"y\":\"Militar\"},{\"font\":{\"color\":\"white\"},\"showarrow\":false,\"text\":\"0.51\",\"x\":\"Investigacion\",\"y\":\"Salud\"},{\"font\":{\"color\":\"white\"},\"showarrow\":false,\"text\":\"0.38\",\"x\":\"Investigacion\",\"y\":\"Educacion\"},{\"font\":{\"color\":\"white\"},\"showarrow\":false,\"text\":\"1.0\",\"x\":\"Investigacion\",\"y\":\"Investigacion\"}],\"yaxis\":{\"title\":{\"text\":\"Area de Inversi\\u00f3n 2\"},\"scaleanchor\":\"x\",\"scaleratio\":1},\"title\":{\"text\":\"Matriz de Correlaci\\u00f3n\"},\"xaxis\":{\"title\":{\"text\":\"Area de Inversi\\u00f3n 1\"}}},                        {\"responsive\": true}                    ).then(function(){\n",
              "                            \n",
              "var gd = document.getElementById('48c64f45-58ac-4330-9b3f-831a1efa6d11');\n",
              "var x = new MutationObserver(function (mutations, observer) {{\n",
              "        var display = window.getComputedStyle(gd).display;\n",
              "        if (!display || display === 'none') {{\n",
              "            console.log([gd, 'removed!']);\n",
              "            Plotly.purge(gd);\n",
              "            observer.disconnect();\n",
              "        }}\n",
              "}});\n",
              "\n",
              "// Listen for the removal of the full notebook cells\n",
              "var notebookContainer = gd.closest('#notebook-container');\n",
              "if (notebookContainer) {{\n",
              "    x.observe(notebookContainer, {childList: true});\n",
              "}}\n",
              "\n",
              "// Listen for the clearing of the current output cell\n",
              "var outputEl = gd.closest('.output');\n",
              "if (outputEl) {{\n",
              "    x.observe(outputEl, {childList: true});\n",
              "}}\n",
              "\n",
              "                        })                };                            </script>        </div>\n",
              "</body>\n",
              "</html>"
            ]
          },
          "metadata": {}
        }
      ]
    },
    {
      "cell_type": "markdown",
      "source": [
        "*Ahora encontramos los autovalores y autovectores asociados a la matriz de covarianza*"
      ],
      "metadata": {
        "id": "DPKDAjjhjKR3"
      }
    },
    {
      "cell_type": "code",
      "source": [
        "autovalores, autovectores = np.linalg.eig(cov)\n",
        "print(\"Matriz de covarianza: \\n\", cov)\n",
        "print(\"\\nAutovalores: \\n\", autovalores)\n",
        "print(\"\\nAutovectores: \\n\", autovectores)\n",
        "resultados = pd.DataFrame(autovectores, columns=[f'Autovector {i+1}' for i in range(4)])\n",
        "resultados['Autovalor'] = autovalores\n",
        "\n",
        "print(\"\\nResultados:\\n\", resultados)"
      ],
      "metadata": {
        "colab": {
          "base_uri": "https://localhost:8080/"
        },
        "id": "wuQQt7pGjQur",
        "outputId": "cc7e3065-1cc6-43dc-b66b-4460147a42a0"
      },
      "execution_count": null,
      "outputs": [
        {
          "output_type": "stream",
          "name": "stdout",
          "text": [
            "Matriz de covarianza: \n",
            " [[ 9.78557434e+28 -7.19025585e+22 -1.35615160e+28 -3.83581084e+28]\n",
            " [-7.19025585e+22  5.04010370e+17  4.28220424e+22  1.28676429e+23]\n",
            " [-1.35615160e+28  4.28220424e+22  3.21907094e+29  7.70034337e+28]\n",
            " [-3.83581084e+28  1.28676429e+23  7.70034337e+28  1.26538026e+29]]\n",
            "\n",
            "Autovalores: \n",
            " [3.51191869e+29 1.29271079e+29 6.58379154e+28 3.56940464e+17]\n",
            "\n",
            "Autovectores: \n",
            " [[-1.01267014e-01  6.77212596e-01 -7.28785354e-01 -3.68355169e-07]\n",
            " [ 2.58669917e-07 -9.35246002e-07 -3.99568861e-07 -1.00000000e+00]\n",
            " [ 9.35679028e-01  3.13721068e-01  1.61504944e-01 -1.15906705e-07]\n",
            " [ 3.38008502e-01 -6.65554049e-01 -6.65423219e-01  9.75771792e-07]]\n",
            "\n",
            "Resultados:\n",
            "    Autovector 1  Autovector 2  Autovector 3  Autovector 4     Autovalor\n",
            "0 -1.012670e-01  6.772126e-01 -7.287854e-01 -3.683552e-07  3.511919e+29\n",
            "1  2.586699e-07 -9.352460e-07 -3.995689e-07 -1.000000e+00  1.292711e+29\n",
            "2  9.356790e-01  3.137211e-01  1.615049e-01 -1.159067e-07  6.583792e+28\n",
            "3  3.380085e-01 -6.655540e-01 -6.654232e-01  9.757718e-07  3.569405e+17\n"
          ]
        }
      ]
    },
    {
      "cell_type": "markdown",
      "source": [
        "*Encontramos la Matriz de transformación que nos lleva de la matriz en la base original a la representación de la matriz en la base de autovalores y autovectores.*"
      ],
      "metadata": {
        "id": "zW4jrkY0kWPl"
      }
    },
    {
      "cell_type": "code",
      "source": [
        "M = np.linalg.inv(autovectores)\n",
        "print(\"\\nMatriz de cambio de coordenadas M = \\n\", M)\n",
        "\n",
        "# Transformamos los autovectores\n",
        "V1_transf = np.dot(M, autovectores[:, 0])\n",
        "V2_transf = np.dot(M, autovectores[:, 1])\n",
        "V3_transf = np.dot(M, autovectores[:, 2])\n",
        "V4_transf = np.dot(M, autovectores[:, 3])\n",
        "print(\"\\nV1 transformado = \\n\", V1_transf)\n",
        "print(\"\\nV2 transformado = \\n\", V2_transf)\n",
        "print(\"\\nV3 transformado = \\n\", V3_transf)\n",
        "print(\"\\nV4 transformado = \\n\", V4_transf)"
      ],
      "metadata": {
        "colab": {
          "base_uri": "https://localhost:8080/"
        },
        "id": "ylrzPTtNkkAy",
        "outputId": "7d8de191-eca0-4686-b267-b85f0aaf05d5"
      },
      "execution_count": null,
      "outputs": [
        {
          "output_type": "stream",
          "name": "stdout",
          "text": [
            "\n",
            "Matriz de cambio de coordenadas M = \n",
            " [[-1.01267014e-01  2.58669917e-07  9.35679028e-01  3.38008502e-01]\n",
            " [ 6.77212596e-01 -9.35246002e-07  3.13721068e-01 -6.65554049e-01]\n",
            " [-7.28785354e-01 -3.99568861e-07  1.61504944e-01 -6.65423219e-01]\n",
            " [-3.68355169e-07 -1.00000000e+00 -1.15906705e-07  9.75771792e-07]]\n",
            "\n",
            "V1 transformado = \n",
            " [ 1.00000000e+00 -2.77555756e-17 -2.77555756e-17  5.29395592e-23]\n",
            "\n",
            "V2 transformado = \n",
            " [-5.55111512e-17  1.00000000e+00  0.00000000e+00 -5.29395592e-23]\n",
            "\n",
            "V3 transformado = \n",
            " [ 0.00000000e+00 -1.11022302e-16  1.00000000e+00 -1.58818678e-22]\n",
            "\n",
            "V4 transformado = \n",
            " [ 2.64697796e-23  1.58818678e-22 -1.05879118e-22  1.00000000e+00]\n"
          ]
        }
      ]
    }
  ]
}